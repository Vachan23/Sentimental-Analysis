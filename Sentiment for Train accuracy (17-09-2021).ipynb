{
 "cells": [
  {
   "cell_type": "code",
   "execution_count": 1,
   "id": "24b2c784",
   "metadata": {},
   "outputs": [
    {
     "name": "stderr",
     "output_type": "stream",
     "text": [
      "[nltk_data] Downloading package wordnet to\n",
      "[nltk_data]     C:\\Users\\vacha\\AppData\\Roaming\\nltk_data...\n",
      "[nltk_data]   Package wordnet is already up-to-date!\n",
      "[nltk_data] Downloading package stopwords to\n",
      "[nltk_data]     C:\\Users\\vacha\\AppData\\Roaming\\nltk_data...\n",
      "[nltk_data]   Package stopwords is already up-to-date!\n"
     ]
    },
    {
     "name": "stdout",
     "output_type": "stream",
     "text": [
      "Accuracy Score of BernoulliNB(alpha=2) : 90%\n",
      "Accuracy Score of LinearSVC() : 86%\n",
      "Accuracy Score of LogisticRegression(C=2, max_iter=1000) : 83%\n",
      "              Actual Feedback SENTIMENT\n",
      "0           I did not like it  Negative\n",
      "1                  I liked it  Negative\n",
      "2  i do not like that manager  Negative\n",
      "3              I am not funny  Negative\n"
     ]
    },
    {
     "name": "stderr",
     "output_type": "stream",
     "text": [
      "C:\\Users\\vacha\\Anaconda3\\lib\\site-packages\\seaborn\\_decorators.py:36: FutureWarning: Pass the following variable as a keyword arg: x. From version 0.12, the only valid positional argument will be `data`, and passing other arguments without an explicit keyword will result in an error or misinterpretation.\n",
      "  warnings.warn(\n"
     ]
    },
    {
     "data": {
      "image/png": "[encoded data removed]",
      "text/plain": [
       "<Figure size 432x288 with 1 Axes>"
      ]
     },
     "metadata": {
      "needs_background": "light"
     },
     "output_type": "display_data"
    }
   ],
   "source": [
    "import re\n",
    "import pickle\n",
    "import numpy as np\n",
    "import pandas as pd\n",
    "import seaborn as sns\n",
    "import matplotlib.pyplot as plt\n",
    "from nltk.stem import WordNetLemmatizer\n",
    "from sklearn.svm import LinearSVC\n",
    "from sklearn.naive_bayes import BernoulliNB\n",
    "from sklearn.linear_model import LogisticRegression\n",
    "from sklearn.model_selection import train_test_split\n",
    "from sklearn.feature_extraction.text import TfidfVectorizer\n",
    "from sklearn.metrics import confusion_matrix, classification_report\n",
    "import nltk\n",
    "nltk.download('wordnet')\n",
    "from sklearn.metrics import accuracy_score\n",
    "import nltk\n",
    "nltk.download('stopwords')\n",
    "from nltk.corpus import stopwords\n",
    "stop_words=set(stopwords.words(\"english\"))\n",
    "import seaborn as sns\n",
    "\n",
    "\n",
    "df = pd.read_excel(\"Train data.xlsx\",sheet_name = \"Sheet1\")\n",
    "df = df.drop(['Label'],axis = 1)\n",
    "df = df.drop(['Date of review'],axis = 1)\n",
    "\n",
    "\n",
    "df.dropna(axis=0,inplace = True)\n",
    "df.isna().sum()\n",
    "df.isnull().sum(axis = 1)\n",
    "df.loc[df.SENTIMENT == \"positive\", \"SENTIMENT\"] = 1\n",
    "df.loc[df.SENTIMENT == \"Negative\", \"SENTIMENT\"] = 0\n",
    "df.SENTIMENT.unique()\n",
    "\n",
    "feedback, sentiment = list(df['Actual Feedback']), list(df['SENTIMENT'])\n",
    "\n",
    "\n",
    "def preprocess(textdata):\n",
    "    processedText = []\n",
    "    \n",
    "    wordLemm = WordNetLemmatizer()\n",
    "    sent = \"[^a-zA-Z0-9]\"\n",
    "    \n",
    "    for text in textdata:\n",
    "        text = text.lower()\n",
    "        text = re.sub(sent, \" \", text)\n",
    "        \n",
    "        words = ''\n",
    "        for word in text.split():\n",
    "            if len(word)>1:\n",
    "                # Lemmatizing the word.\n",
    "                word = wordLemm.lemmatize(word)\n",
    "                words += (word+' ')\n",
    "        processedText.append(words)\n",
    "    return processedText\n",
    "\n",
    "\n",
    "processedtext = preprocess(feedback)\n",
    "\n",
    "X_train, X_test, y_train, y_test = train_test_split(processedtext, sentiment, test_size = 0.05, random_state = 0)\n",
    "\n",
    "vectoriser = TfidfVectorizer(ngram_range=(1,2), max_features=10000)\n",
    "vectoriser.fit(X_train)\n",
    "X_train = vectoriser.transform(X_train)\n",
    "X_test  = vectoriser.transform(X_test)\n",
    "\n",
    "\n",
    "sns.countplot('SENTIMENT', data = df)\n",
    "\n",
    "def model_Evaluate(model):\n",
    "    y_pred = model.predict(X_test)\n",
    "    score = int(accuracy_score(y_test,y_pred)*100)\n",
    "    round(score, 2)\n",
    "    print(f\"Accuracy Score of {model} : {score}%\")\n",
    "\n",
    "BNBmodel = BernoulliNB(alpha = 2)\n",
    "BNBmodel.fit(X_train, y_train)\n",
    "model_Evaluate(BNBmodel)\n",
    "\n",
    "\n",
    "SVCmodel = LinearSVC()\n",
    "SVCmodel.fit(X_train, y_train)\n",
    "model_Evaluate(SVCmodel)\n",
    "\n",
    "\n",
    "LRmodel = LogisticRegression(C = 2, max_iter = 1000)\n",
    "LRmodel.fit(X_train, y_train)\n",
    "model_Evaluate(LRmodel)\n",
    "\n",
    "\n",
    "def predict(vectoriser, model, text):\n",
    "    textdata = vectoriser.transform(preprocess(text))\n",
    "    sentiment = model.predict(textdata)\n",
    "    data = []\n",
    "    for text, pred in zip(text, sentiment):\n",
    "        data.append((text,pred))\n",
    "    df = pd.DataFrame(data, columns = ['Actual Feedback','SENTIMENT'])\n",
    "    df = df.replace([0,1], [\"Negative\",\"Positive\"])\n",
    "    return df\n",
    "\n",
    "text = [\"I did not like it\",\"I liked it\", \"i do not like that manager\", \"I am not funny\"]\n",
    "    \n",
    "df = predict(vectoriser, LRmodel, text)\n",
    "print(df.head())\n"
   ]
  },
  {
   "cell_type": "code",
   "execution_count": null,
   "id": "5564f209",
   "metadata": {},
   "outputs": [],
   "source": []
  }
 ],
 "metadata": {
  "kernelspec": {
   "display_name": "Python 3",
   "language": "python",
   "name": "python3"
  },
  "language_info": {
   "codemirror_mode": {
    "name": "ipython",
    "version": 3
   },
   "file_extension": ".py",
   "mimetype": "text/x-python",
   "name": "python",
   "nbconvert_exporter": "python",
   "pygments_lexer": "ipython3",
   "version": "3.8.8"
  }
 },
 "nbformat": 4,
 "nbformat_minor": 5
}
